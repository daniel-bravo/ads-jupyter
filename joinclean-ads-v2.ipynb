{
 "cells": [
  {
   "cell_type": "markdown",
   "id": "3f81ef35",
   "metadata": {},
   "source": [
    "# Notebook para procesar datos de AWS Application Discovery Service\n",
    "\n",
    "## 1. Definición de Parámetros\n",
    "\n",
    "Este notebook sirve para realizar la unión y el procesamiento de datos que entrega a la salida el servicio de AWS ADS. Podemos realizar la conjunción de los archivos:\n",
    "\n",
    "1. EC2 Instance Recommendations\n",
    "2. System Performance\n",
    "\n",
    "La información que obtenemos a la salida de este Jupyter Notebook es:\n",
    "\n",
    "1. Estimación de costos de EC2\n",
    "2. Estimación de costos de almacenamiento EBS\n",
    "3. Estimación de DTO, considerando que un 20% de tráfico escrito a la red saldrá a Internet\n",
    "\n",
    "Adicionalmente, obtenemos CSVs con los siguientes datos:\n",
    "\n",
    "1. Instancias recomendadas, con datos de Almacenamiento, DTO, RAM, IOPs y vCPUs por cada instancia\n",
    "2. VMs que no se pudieron procesar\n",
    "3. Instancias que no tienen actividad\n",
    "4. Instancias con menos de 10 IOPs\n",
    "5. Las 10 instancias más costosas\n",
    "\n",
    "Favor de modificar los datos siguientes, de acuerdo los datos de su export:"
   ]
  },
  {
   "cell_type": "code",
   "execution_count": null,
   "id": "cc96a45f",
   "metadata": {},
   "outputs": [],
   "source": [
    "# Celda 1\n",
    "# Importando las librerias necesarias\n",
    "import pandas as pd\n",
    "pd.options.mode.chained_assignment = None\n",
    "import numpy as np\n",
    "import seaborn as sns\n",
    "import matplotlib.pyplot as plt\n",
    "import boto3\n",
    "import json\n",
    "\n",
    "\n",
    "# favor de reemplazar con el nombre de los archivos que tengan a la salida de AWS ADS\n",
    "ec2_recommendation_file = \"EC2InstanceRecommendations.csv\"\n",
    "system_performance_file = \"SystemPerformance.csv\"\n"
   ]
  },
  {
   "cell_type": "markdown",
   "id": "5a88f6ab",
   "metadata": {},
   "source": [
    "En esta sección se consultan de manera automática los precios de EBS ( fuente: https://aws.amazon.com/ebs/pricing/ ). Favor de cambiar la región si es necesario:"
   ]
  },
  {
   "cell_type": "code",
   "execution_count": null,
   "id": "ac657eb9",
   "metadata": {},
   "outputs": [],
   "source": [
    "# Celda 2\n",
    "print(\"Get EBS Volume Prices\")\n",
    "print(\"==============================\")\n",
    "\n",
    "pricing = boto3.client('pricing')\n",
    "\n",
    "#cambiar abajo 'location' en caso de hacer un TCO en otra región\n",
    "response = pricing.get_products(\n",
    "     ServiceCode='AmazonEC2',\n",
    "     Filters = [\n",
    "         {'Type' :'TERM_MATCH', 'Field':'volumeApiName', 'Value':'standard'              }\n",
    "         ,{'Type' :'TERM_MATCH', 'Field':'locationType',  'Value':'AWS Region'                   }\n",
    "         ,{'Type' :'TERM_MATCH', 'Field':'location',      'Value':'US East (N. Virginia)'              }\n",
    "     ],\n",
    "     MaxResults=100\n",
    ")\n",
    "\n",
    "\n",
    "# From the whole response get the list of key names (product codes) that we are intereste on,\n",
    "# which are the OnDemand Price Dimensions. Each range of price has a unique code name that we\n",
    "# don't know in advance. That's why we have to get the keys list to iterate them later.\n",
    "product = json.loads(response['PriceList'][0])\n",
    "ondem = product['terms']['OnDemand']\n",
    "ondem_list = list(ondem.keys())\n",
    "prices = ondem[ondem_list[0]]['priceDimensions']\n",
    "prices_list = list(prices.keys())\n",
    "\n",
    "# Based on the top GBs of the range determine the cost variable of interest\n",
    "for range_code in prices_list:\n",
    "    range = prices[range_code] \n",
    "    if range['endRange'] == 'Inf':\n",
    "        ebs_magnetic_monthly_cost  = float(range['pricePerUnit']['USD'])\n",
    "\n",
    "print('ebs_magnetic_monthly_cost =  $ {} USD'.format(ebs_magnetic_monthly_cost))\n",
    "\n",
    "##########################################\n",
    "\n",
    "#cambiar abajo 'location' en caso de hacer un TCO en otra región\n",
    "response = pricing.get_products(\n",
    "     ServiceCode='AmazonEC2',\n",
    "     Filters = [\n",
    "         {'Type' :'TERM_MATCH', 'Field':'volumeApiName', 'Value':'gp3'              }\n",
    "         ,{'Type' :'TERM_MATCH', 'Field':'locationType',  'Value':'AWS Region'                   }\n",
    "         ,{'Type' :'TERM_MATCH', 'Field':'location',      'Value':'US East (N. Virginia)'              }\n",
    "     ],\n",
    "     MaxResults=100\n",
    ")\n",
    "\n",
    "# From the whole response we search for the specific \"usagetype\" we are looking for between all prices.\n",
    "# From thta product we get the list of key names (product codes) that we are intereste on,\n",
    "# which are the OnDemand Price Dimensions. Each range of price has a unique code name that we\n",
    "# don't know in advance. That's why we have to get the keys list to iterate them later.\n",
    "pricelist = response['PriceList']\n",
    "for i in pricelist:\n",
    "    tmp_prod = json.loads(i)\n",
    "    if tmp_prod['product']['attributes']['usagetype'] == 'EBS:VolumeUsage.gp3':\n",
    "        product = tmp_prod\n",
    "\n",
    "ondem = product['terms']['OnDemand']\n",
    "ondem_list = list(ondem.keys())\n",
    "prices = ondem[ondem_list[0]]['priceDimensions']\n",
    "prices_list = list(prices.keys())\n",
    "\n",
    "# Based on the top GBs of the range determine the cost variable of interest\n",
    "for range_code in prices_list:\n",
    "    range = prices[range_code]\n",
    "    if range['endRange'] == 'Inf':\n",
    "        ebs_gp3_monthly_cost   = float(range['pricePerUnit']['USD'])\n",
    "\n",
    "print('ebs_gp3_monthly_cost  = $ {} USD'.format(ebs_gp3_monthly_cost ))"
   ]
  },
  {
   "cell_type": "markdown",
   "id": "532e365b",
   "metadata": {},
   "source": [
    "En esta sección se consultan de manera automática los precios de Data Transfer Out (DTO) por GiB ( fuente: https://aws.amazon.com/ec2/pricing/on-demand/ ). Favor de cambiar la región si es necesario:"
   ]
  },
  {
   "cell_type": "code",
   "execution_count": null,
   "id": "1a6538dc",
   "metadata": {},
   "outputs": [],
   "source": [
    "# Celda 3\n",
    "print(\"Get DataTransfer Prices\")\n",
    "print(\"==============================\")\n",
    "\n",
    "#cambiar abajo 'location' en caso de hacer un TCO en otra región\n",
    "response = pricing.get_products(\n",
    "     ServiceCode='AWSDataTransfer',\n",
    "     Filters = [\n",
    "         {'Type' :'TERM_MATCH', 'Field':'fromLocationType', 'Value':'AWS Region'              }\n",
    "         ,{'Type' :'TERM_MATCH', 'Field':'transferType',  'Value':'AWS Outbound'                   }\n",
    "         ,{'Type' :'TERM_MATCH', 'Field':'fromLocation',      'Value':'US East (N. Virginia)'              }\n",
    "     ],\n",
    "     MaxResults=100\n",
    ")\n",
    "\n",
    "# From the whole response get the list of key names (product codes) that we are intereste on,\n",
    "# which are the OnDemand Price Dimensions. Each range of price has a unique code name that we\n",
    "# don't know in advance. That's why we have to get the keys list to iterate them later.\n",
    "product = json.loads(response['PriceList'][0])\n",
    "ondem = product['terms']['OnDemand']\n",
    "ondem_list = list(ondem.keys())\n",
    "prices = ondem[ondem_list[0]]['priceDimensions']\n",
    "prices_list = list(prices.keys())\n",
    "\n",
    "# Based on the top GBs of the range determine the cost variable of interest\n",
    "for range_code in prices_list:\n",
    "    range = prices[range_code]\n",
    "    \n",
    "    if range['endRange'] == '10240':\n",
    "        cost_10_tb = float(range['pricePerUnit']['USD'])\n",
    "    elif range['endRange'] == '51200':\n",
    "        cost_40_tb = float(range['pricePerUnit']['USD'])\n",
    "    elif range['endRange'] == '153600':\n",
    "        cost_100_tb = float(range['pricePerUnit']['USD'])\n",
    "    elif range['endRange'] == 'Inf':\n",
    "        cost_150_tb = float(range['pricePerUnit']['USD'])\n",
    "\n",
    "print('cost_10_tb = $ {} USD'.format(cost_10_tb))\n",
    "print('cost_40_tb = $ {} USD'.format(cost_40_tb))\n",
    "print('cost_100_tb = $ {} USD'.format(cost_100_tb))\n",
    "print('cost_150_tb = $ {} USD'.format(cost_150_tb))"
   ]
  },
  {
   "cell_type": "markdown",
   "id": "c1e70ef8",
   "metadata": {},
   "source": [
    "## 2. Pre-procesamiento de datos"
   ]
  },
  {
   "cell_type": "code",
   "execution_count": null,
   "id": "6bdc7f48",
   "metadata": {},
   "outputs": [],
   "source": [
    "# Celda 4\n",
    "# importando el archivo de recomendaciones\n",
    "ds_rec = pd.read_csv(ec2_recommendation_file)"
   ]
  },
  {
   "cell_type": "code",
   "execution_count": null,
   "id": "69581b9f",
   "metadata": {},
   "outputs": [],
   "source": [
    "# Celda 5\n",
    "# importando el archivo de performance\n",
    "ds_sys = pd.read_csv(system_performance_file)"
   ]
  },
  {
   "cell_type": "code",
   "execution_count": null,
   "id": "557ef044",
   "metadata": {},
   "outputs": [],
   "source": [
    "# Celda 6\n",
    "# Copiando en un data frame únicamente las columnas de interés del archivo de recomendaciones\n",
    "ds_rec_fil = ds_rec[['ServerId','Server.HostName','Server.VMware.VMname','Server.OS.Name','Recommendation.EC2.Instance.OSType','Server.VMware.vCenterName','Recommendation.EC2.Instance.vCPUCount','Recommendation.EC2.Instance.RAM.TotalSizeinMB','Recommendation.EC2.Instance.Model','Recommendation.EC2.Instance.Price.HourlyRate','Server.DiskReadOpsPerSecond.Max','Server.DiskWriteOpsPerSecond.Max']].copy()"
   ]
  },
  {
   "cell_type": "code",
   "execution_count": null,
   "id": "40042c23",
   "metadata": {},
   "outputs": [],
   "source": [
    "# Celda 7\n",
    "# Renombrando las columnas a algo más fácil de identificar\n",
    "ds_rec_fil.rename(columns={'ServerId': 'Server_ID','Server.HostName': 'Server','Server.VMware.VMname':'Nombre_en_Vmware','Server.OS.Name':'Operating_System','Recommendation.EC2.Instance.OSType':'Tipo_de_OS','Server.VMware.vCenterName':'Nombre_vCenter','Recommendation.EC2.Instance.vCPUCount':'vCPUs_Recomendacion','Recommendation.EC2.Instance.RAM.TotalSizeinMB':'Memory_(GiB)_Recomendacion','Recommendation.EC2.Instance.Model':'Instancia_EC2_Recomendada','Recommendation.EC2.Instance.Price.HourlyRate':'Precio_por_hr_EC2','Server.DiskReadOpsPerSecond.Max':'DiskReadOpsPerSecondMax','Server.DiskWriteOpsPerSecond.Max':'DiskWriteOpsPerSecondMax'},inplace=True)"
   ]
  },
  {
   "cell_type": "code",
   "execution_count": null,
   "id": "8fb9c817",
   "metadata": {},
   "outputs": [],
   "source": [
    "# Celda 8\n",
    "# Mostrando 10 renglones de manera aleatoria\n",
    "np.random.seed(1)\n",
    "ds_rec_fil.sample(n=10)"
   ]
  },
  {
   "cell_type": "code",
   "execution_count": null,
   "id": "891c4632",
   "metadata": {},
   "outputs": [],
   "source": [
    "# Celda 9\n",
    "# Copiando las columnas de interés del archivo de performance\n",
    "ds_sys_fil = ds_sys[['serverId','numDisks','powerState','totalDiskSize','avgNetworkBytesWrittenPerSecond']].copy()"
   ]
  },
  {
   "cell_type": "code",
   "execution_count": null,
   "id": "13288529",
   "metadata": {},
   "outputs": [],
   "source": [
    "# Celda 10\n",
    "# Cambiando el nombre de las columnas a algo más fácil de interpretar\n",
    "ds_sys_fil.rename(columns={'serverId': 'Server_ID', 'numDisks': 'Num_discos', 'powerState': 'Estado_VM(ON/OFF)','totalDiskSize':'Capacidad_Almacenamiento(GiB)', 'avgNetworkBytesWrittenPerSecond': 'Data_Transfer_Out-GiB_escritos'}, inplace=True)"
   ]
  },
  {
   "cell_type": "code",
   "execution_count": null,
   "id": "91d76eac",
   "metadata": {},
   "outputs": [],
   "source": [
    "# Celda 11\n",
    "# Mostrando 10 renglones de manera aleatoria\n",
    "ds_sys_fil.sample(n=10)"
   ]
  },
  {
   "cell_type": "code",
   "execution_count": null,
   "id": "4e6c305f",
   "metadata": {},
   "outputs": [],
   "source": [
    "# Celda 12\n",
    "# Obteniendo el tipo de datos en cada columna del data frame de recomendaciones\n",
    "ds_rec_fil.info()"
   ]
  },
  {
   "cell_type": "code",
   "execution_count": null,
   "id": "6eb97a82",
   "metadata": {},
   "outputs": [],
   "source": [
    "# Celda 13\n",
    "# Obteniendo el tipo de datos en cada columna del data frame de performance\n",
    "ds_sys_fil.info()"
   ]
  },
  {
   "cell_type": "code",
   "execution_count": null,
   "id": "a57850cf",
   "metadata": {},
   "outputs": [],
   "source": [
    "# Celda 14\n",
    "# Juntando ambos data frames (inner join)\n",
    "df_merged = ds_rec_fil.merge(ds_sys_fil, on='Server_ID', how='inner')"
   ]
  },
  {
   "cell_type": "code",
   "execution_count": null,
   "id": "d67b311c",
   "metadata": {},
   "outputs": [],
   "source": [
    "# Celda 15\n",
    "# Tomando 10 renglones de manera aleatoria\n",
    "df_merged.sample(n=10)"
   ]
  },
  {
   "cell_type": "code",
   "execution_count": null,
   "id": "da264d2b",
   "metadata": {},
   "outputs": [],
   "source": [
    "# Celda 16\n",
    "# Funciones para transformar MiB a GiB y Bytes a GiB\n",
    "\n",
    "def mb2gb(mb):\n",
    "    return mb/1024\n",
    "\n",
    "def b2gb(b):\n",
    "    if np.isnan(b) == False:\n",
    "        return round(b/1024/1024/1024)\n",
    "\n",
    "# Funcion para calcular el consumo de DTO durante un mes, a partir de los bits escritos en red    \n",
    "\n",
    "def monthly(b):\n",
    "    if np.isnan(b) == False:\n",
    "        return round(b*3600*24*30.4)\n",
    "\n",
    "# Funcion para transfomar bits a GiB\n",
    "\n",
    "def bi2gb(b):\n",
    "    if np.isnan(b) == False:\n",
    "        return round(b/8/1024/1024/1024)"
   ]
  },
  {
   "cell_type": "code",
   "execution_count": null,
   "id": "330cf24f",
   "metadata": {},
   "outputs": [],
   "source": [
    "# Celda 17\n",
    "# Transformando los datos de Memoria a la escala correcta \n",
    "df_merged['Memory_(GiB)_Recomendacion'] = df_merged['Memory_(GiB)_Recomendacion'].apply(mb2gb)"
   ]
  },
  {
   "cell_type": "code",
   "execution_count": null,
   "id": "35281f94",
   "metadata": {},
   "outputs": [],
   "source": [
    "# Celda 18\n",
    "# Transformando los datos de DTO a la escala correcta\n",
    "df_merged['Data_Transfer_Out-GiB_escritos'] = df_merged['Data_Transfer_Out-GiB_escritos'].apply(monthly)\n",
    "df_merged['Data_Transfer_Out-GiB_escritos'] = df_merged['Data_Transfer_Out-GiB_escritos'].apply(b2gb)"
   ]
  },
  {
   "cell_type": "code",
   "execution_count": null,
   "id": "10042a8b",
   "metadata": {},
   "outputs": [],
   "source": [
    "# Celda 19\n",
    "# Transformando el almacenamiento a la escala correcta\n",
    "df_merged['Capacidad_Almacenamiento(GiB)'] = df_merged['Capacidad_Almacenamiento(GiB)'].apply(b2gb)"
   ]
  },
  {
   "cell_type": "code",
   "execution_count": null,
   "id": "886666ba",
   "metadata": {},
   "outputs": [],
   "source": [
    "# Celda 20\n",
    "# Tomando 10 renglones de manera aleatoria\n",
    "df_merged.sample(n=10)"
   ]
  },
  {
   "cell_type": "code",
   "execution_count": null,
   "id": "f492ead3",
   "metadata": {},
   "outputs": [],
   "source": [
    "# Celda 21\n",
    "df_merged.info()"
   ]
  },
  {
   "cell_type": "markdown",
   "id": "e0cabaac",
   "metadata": {},
   "source": [
    "### Insights:\n",
    "* Si tenemos una gran cantidad de `Server_ID`, con respecto a `Instancia_EC2_Recomendada`, es posible que ADS no haya recolectado datos de utilización debido a que la máquina está apagada\n",
    "* No nos interesa hacer la estimación sobre las VMs que están apagadas, vamos a considerar únicamente las instancias cuyo estado sea POWER_ON"
   ]
  },
  {
   "cell_type": "code",
   "execution_count": null,
   "id": "7d1068e2",
   "metadata": {},
   "outputs": [],
   "source": [
    "# Celda 22\n",
    "# Obteniendo sólo las instancias encendidas\n",
    "df_on = df_merged[df_merged['Estado_VM(ON/OFF)'] == 'POWER_ON']\n",
    "df_on.info()"
   ]
  },
  {
   "cell_type": "markdown",
   "id": "c8841f5a",
   "metadata": {},
   "source": [
    "### Insights:\n",
    "* Si aún después de correr el código de arriba, vemos que el número de `Server_ID` non-null > número de `Instancia_EC2_Recomendada` non-null, vamos a copiar los servidores para los cuales AWS ADS no tiene una recomendación\n",
    "* Hasta cierto punto es normal tener un mayor número de Server_ID a Instancia_EC2_Recomendada, principalmente por:\n",
    "1. Servidores ESX\n",
    "2. Aplicaciones de VMware, que no es necesario migrar\n",
    "3. La aplicación de AWS ADS Connector\n",
    "4. Instancias que no tienen instaladas VMware Tools\n",
    "\n",
    "Vamos a exportar todas estas recomendaciones y dejarlas en un CSV para su tratamiento de fuera del Notebook, en caso de ser necesario, utilizando una herramienta como RVTools. Para estos casos, lo recomendable es tratarlos de manera manual, haciendo un direct match a una instancia equivalente EC2"
   ]
  },
  {
   "cell_type": "code",
   "execution_count": null,
   "id": "6bb63c7e",
   "metadata": {},
   "outputs": [],
   "source": [
    "# Celda 23\n",
    "# Obteniendo las instancias que no recibieron una recomendación de ADS\n",
    "df_no_recom = df_on[df_on['Instancia_EC2_Recomendada'].isnull()]"
   ]
  },
  {
   "cell_type": "code",
   "execution_count": null,
   "id": "16f8b367",
   "metadata": {},
   "outputs": [],
   "source": [
    "# Celda 24\n",
    "# Tomando 5 renglones de manera aleatoria\n",
    "df_no_recom.sample(n=5)"
   ]
  },
  {
   "cell_type": "code",
   "execution_count": null,
   "id": "4a040dc3",
   "metadata": {},
   "outputs": [],
   "source": [
    "# Celda 25\n",
    "# Guardando las instancias sin recomendacion en un CSV para su análisis fuera del Notebook\n",
    "df_no_recom.to_csv(\"EC2SinRecomendacion.csv\")"
   ]
  },
  {
   "cell_type": "markdown",
   "id": "15abfe5c",
   "metadata": {},
   "source": [
    "### Removiendo valores Nulos\n",
    "\n",
    "De manera similar, vamos a filtrar únicamente los valores que no son nulos para hacer el análisis exploratorio de nuestros datos. Con esto podemos realizar una estimación de los costos: EC2, EBS y DTO."
   ]
  },
  {
   "cell_type": "code",
   "execution_count": null,
   "id": "c5094a5e",
   "metadata": {},
   "outputs": [],
   "source": [
    "# Celda 26\n",
    "# Contando el número de renglones y columnas\n",
    "df_on_rec = df_on[df_on['Instancia_EC2_Recomendada'].notnull()]"
   ]
  },
  {
   "cell_type": "code",
   "execution_count": null,
   "id": "a6f61aa5",
   "metadata": {},
   "outputs": [],
   "source": [
    "# Celda 27\n",
    "df_on_rec.info()"
   ]
  },
  {
   "cell_type": "code",
   "execution_count": null,
   "id": "0eea1d56",
   "metadata": {},
   "outputs": [],
   "source": [
    "# Celda 28\n",
    "# Sumando los IOPs de lectura y de escritura\n",
    "df_on_rec['Iops_total_(R+W)-Max'] = df_on_rec['DiskReadOpsPerSecondMax'] + df_on_rec['DiskWriteOpsPerSecondMax']\n"
   ]
  },
  {
   "cell_type": "code",
   "execution_count": null,
   "id": "b242e3c9",
   "metadata": {},
   "outputs": [],
   "source": [
    "# Celda 29\n",
    "df_on_rec.head()"
   ]
  },
  {
   "cell_type": "markdown",
   "id": "eda13524",
   "metadata": {},
   "source": [
    "### Optimizando el tipo de volumen EBS\n",
    "\n",
    "Asumimos que si el número de IOPs es menor a 100, es posible que un volumen de generación previa es suficiente para nuestra aplicación: https://aws.amazon.com/ebs/previous-generation/\n",
    "\n",
    "Sin embargo, es necesario revisar caso por caso si nuestra aplicación va a funcionar adecuadamente con un volumen magnético."
   ]
  },
  {
   "cell_type": "code",
   "execution_count": null,
   "id": "de787927",
   "metadata": {},
   "outputs": [],
   "source": [
    "# Celda 30\n",
    "# Dos funciones para determinar el tipo de volumen EBS y su precio, tomando como base los IOPs\n",
    "\n",
    "def ebs_type(n):\n",
    "    if n > 100:\n",
    "        return 'gp3'\n",
    "    else:\n",
    "        return 'magnetic'\n",
    "\n",
    "def ebs_price(n):\n",
    "    if n > 100:\n",
    "        return ebs_gp3_monthly_cost\n",
    "    else:\n",
    "        return ebs_magnetic_monthly_cost"
   ]
  },
  {
   "cell_type": "code",
   "execution_count": null,
   "id": "38830587",
   "metadata": {},
   "outputs": [],
   "source": [
    "# Celda 31\n",
    "df_on_rec['EBS_Type'] = df_on_rec['Iops_total_(R+W)-Max'].apply(ebs_type)\n",
    "df_on_rec['EBS_Price'] = df_on_rec['Iops_total_(R+W)-Max'].apply(ebs_price)\n",
    "# Calculamos el costo mensual por volumen\n",
    "df_on_rec['Costo_Mensual_EBS'] = df_on_rec['EBS_Price'] * df_on_rec['Capacidad_Almacenamiento(GiB)']\n",
    "# Calculamos el costo mensual por instancia por mes, a partir del costo por hora de cada instancia\n",
    "df_on_rec['Costo_Mensual_EC2'] = df_on_rec['Precio_por_hr_EC2'] * 730"
   ]
  },
  {
   "cell_type": "code",
   "execution_count": null,
   "id": "d97ef70e",
   "metadata": {},
   "outputs": [],
   "source": [
    "# Celda 32\n",
    "df_on_rec.sample(n=10)"
   ]
  },
  {
   "cell_type": "markdown",
   "id": "29b8dc73",
   "metadata": {},
   "source": [
    "## 3. Análisis Exploratorio de Datos\n",
    "\n",
    "Con los datos recolectados, vamos a realizar una serie de gráficas que nos permitirán visualizar el tipo de instancias recomendadas, los sistemas operativos y la distribución de las versiones de Windows. \n",
    "\n",
    "Además, entregamos una lista con las máquinas con menor cantidad de IOPs (< 10), lo cual puede ser una indicación de VMs que están corriendo ociosamente on-prem, pero que probablemente no es necesario migrar a AWS."
   ]
  },
  {
   "cell_type": "code",
   "execution_count": null,
   "id": "3eefaa14",
   "metadata": {},
   "outputs": [],
   "source": [
    "# Celda 33\n",
    "# Con esta función vamos a graficar las columnas que sean de interés\n",
    "def chart_category(data_column, width, height, add_percentage=False):\n",
    "    plt.figure(figsize=(width,height))\n",
    "    chart = sns.countplot(x=data_column, order = data_column.value_counts().index)\n",
    "    chart.set_xticklabels(chart.get_xticklabels(),rotation=45)\n",
    "    \n",
    "    for p in chart.patches:\n",
    "        total = len(data_column)\n",
    "        if add_percentage == False:\n",
    "            percentage = p.get_height()\n",
    "        else:\n",
    "            percentage = '{:.1f}%'.format(100 * p.get_height()/total) + '\\n(' + str(p.get_height()) + ')'\n",
    "        x = p.get_x() + p.get_width() / 2 \n",
    "        y = p.get_y() + p.get_height() + 0.1\n",
    "        chart.annotate(percentage, (x, y), size = 10)"
   ]
  },
  {
   "cell_type": "code",
   "execution_count": null,
   "id": "4438e724",
   "metadata": {},
   "outputs": [],
   "source": [
    "# Celda 34\n",
    "df_on_rec.info()"
   ]
  },
  {
   "cell_type": "code",
   "execution_count": null,
   "id": "38e6c69b",
   "metadata": {},
   "outputs": [],
   "source": [
    "# Celda 35\n",
    "# Vamos a graficar la distribución de instancias recomendadas. \n",
    "# Útil para entender los costos finales de EC2, al comparar diferentes escenarios\n",
    "chart_category(df_on_rec['Instancia_EC2_Recomendada'], 20, 10, True)"
   ]
  },
  {
   "cell_type": "code",
   "execution_count": null,
   "id": "dcbce4e1",
   "metadata": {},
   "outputs": [],
   "source": [
    "# Celda 36\n",
    "# Otras Columnas interesantes\n",
    "interesting_columns = ['Tipo_de_OS', 'EBS_Type']\n",
    "for column in interesting_columns:\n",
    "    chart_category(df_on_rec[column], 10, 5, True)"
   ]
  },
  {
   "cell_type": "code",
   "execution_count": null,
   "id": "4b12e5ca",
   "metadata": {},
   "outputs": [],
   "source": [
    "# Celda 37\n",
    "# Vamos a analizar también la distribución de los sistemas operativos windows. \n",
    "df_on_rec_win = df_on_rec[df_on_rec['Tipo_de_OS']=='Windows']\n",
    "chart_category(df_on_rec_win['Operating_System'], 20, 10, True)"
   ]
  },
  {
   "cell_type": "markdown",
   "id": "c8a345c4",
   "metadata": {},
   "source": [
    "## VMs con 0 IOPs y con < 10 IOPs\n",
    "\n",
    "En esta sección vamos a proporcionar las VMs que aparentemente no tienen ocupación, lo cual es una posibilidad de ahorrar costos al no considerarse dentro del proyecto de migración."
   ]
  },
  {
   "cell_type": "code",
   "execution_count": null,
   "id": "f85aa12b",
   "metadata": {},
   "outputs": [],
   "source": [
    "# Celda 38\n",
    "# Para tener consistencia con Migration Evaluator, vamos a llamar a las VMs con 0 IOPs como VMs zombies\n",
    "df_zombie = df_on_rec[df_on_rec[\"Iops_total_(R+W)-Max\"] == 0]"
   ]
  },
  {
   "cell_type": "code",
   "execution_count": null,
   "id": "09d7ae76",
   "metadata": {},
   "outputs": [],
   "source": [
    "# Celda 39\n",
    "# Vamos a guardar las VMs Zombies en un CSV\n",
    "df_zombie.to_csv('Zombie_vm.csv')"
   ]
  },
  {
   "cell_type": "code",
   "execution_count": null,
   "id": "c4fd5a8f",
   "metadata": {},
   "outputs": [],
   "source": [
    "# Celda 40\n",
    "# Para tener consistencia con Migration Evaluator, vamos a llamar a las VMs con 0 IOPs como VMs zombies\n",
    "df_zombie_ten_iops = df_on_rec[df_on_rec[\"Iops_total_(R+W)-Max\"] < 10]"
   ]
  },
  {
   "cell_type": "code",
   "execution_count": null,
   "id": "a6eda737",
   "metadata": {},
   "outputs": [],
   "source": [
    "# Celda 41\n",
    "# Vamos a guardar las VMs Zombies en un CSV\n",
    "df_zombie_ten_iops.to_csv('Zombie_vm_menos_10_iops.csv')"
   ]
  },
  {
   "cell_type": "markdown",
   "id": "a6ff6a7d",
   "metadata": {},
   "source": [
    "## Top 10 de la lista de instancias, por costo\n",
    "Vamos a analizar cuáles son el Top 10 de las instancias, en términos de costos"
   ]
  },
  {
   "cell_type": "code",
   "execution_count": null,
   "id": "de3962c4",
   "metadata": {},
   "outputs": [],
   "source": [
    "# Celda 42\n",
    "ds_top10 = df_on_rec.sort_values('Costo_Mensual_EC2', ascending=False).head(10)"
   ]
  },
  {
   "cell_type": "code",
   "execution_count": null,
   "id": "17050faf",
   "metadata": {},
   "outputs": [],
   "source": [
    "# Celda 43\n",
    "ds_top10.to_csv('top_10.csv', index=False)"
   ]
  },
  {
   "cell_type": "markdown",
   "id": "6b882610",
   "metadata": {},
   "source": [
    "# 4. Análisis de Costos y exportación de la tabla de recomendaciones\n",
    "\n",
    "Al final, nos interesa saber cuál será el costo de la infraestructura (EC2, EBS y Data Transfer Out) sobre AWS. En esta sección proporcionamos un resumen de estos tres costos. Es recomendable evaluar distintos escenarios, por ejemplo, comparar el costo de una migración 1 a 1 (direct match) con una migración utilizando el 95 percentil, para determinar qué escenario nos conviene más."
   ]
  },
  {
   "cell_type": "markdown",
   "id": "af015819",
   "metadata": {},
   "source": [
    "## Costos EC2"
   ]
  },
  {
   "cell_type": "code",
   "execution_count": null,
   "id": "40aae283",
   "metadata": {},
   "outputs": [],
   "source": [
    "# Celda 44\n",
    "ec2_cost = df_on_rec['Costo_Mensual_EC2'].sum().round(2)\n",
    "print(f\"El costo total mensual de EC2 es $ {ec2_cost} USD\")"
   ]
  },
  {
   "cell_type": "markdown",
   "id": "603325dc",
   "metadata": {},
   "source": [
    "## Costos EBS"
   ]
  },
  {
   "cell_type": "code",
   "execution_count": null,
   "id": "e42cad19",
   "metadata": {},
   "outputs": [],
   "source": [
    "# Celda 45\n",
    "ebs_cost = df_on_rec['Costo_Mensual_EBS'].sum().round(2)\n",
    "print(f\"El costo total mensual de EBS es $ {ebs_cost} USD\")"
   ]
  },
  {
   "cell_type": "markdown",
   "id": "6e095b9a",
   "metadata": {},
   "source": [
    "## Estimación DTO"
   ]
  },
  {
   "cell_type": "code",
   "execution_count": null,
   "id": "02553b95",
   "metadata": {},
   "outputs": [],
   "source": [
    "# Celda 46\n",
    "total_gb_dto = df_on_rec['Data_Transfer_Out-GiB_escritos'].sum().round(2)*0.2\n",
    "\n",
    "dto_monthly_cost = 0\n",
    "if total_gb_dto < 10*1024:\n",
    "    dto_monthly_cost = total_gb_dto * cost_10_tb\n",
    "elif total_gb_dto < 50*1024:\n",
    "    dto_monthly_cost = 10*1024*cost_10_tb + (total_gb_dto - 10*1024)*cost_40_tb\n",
    "elif total_gb_dto < 150*1024:\n",
    "    dto_monthly_cost = 10*1024*cost_10_tb + 40*1024*cost_40_tb + (total_gb_dto - 50*1024)*cost_100_tb\n",
    "else:\n",
    "    dto_monthly_cost = 10*1024*cost_10_tb + 40*1024*cost_40_tb + 100*1024*cost_100_tb + (total_gb_dto - 150*1024)*cost_150_tb\n",
    "    \n",
    "print(f\"El costo total mensual de DTO es $ {dto_monthly_cost.round(2)} USD\")"
   ]
  },
  {
   "cell_type": "markdown",
   "id": "c7781290",
   "metadata": {},
   "source": [
    "## Total Cost of Ownership (TCO)"
   ]
  },
  {
   "cell_type": "code",
   "execution_count": null,
   "id": "d417b334",
   "metadata": {},
   "outputs": [],
   "source": [
    "# Celda 47\n",
    "print(f\"El costo total de propiedad estimado es: $ {ec2_cost + ebs_cost + dto_monthly_cost.round(2)} USD (Mensuales)\")"
   ]
  },
  {
   "cell_type": "markdown",
   "id": "f80de301",
   "metadata": {},
   "source": [
    "## Export del archivo de recomendaciones"
   ]
  },
  {
   "cell_type": "code",
   "execution_count": null,
   "id": "ed885897",
   "metadata": {},
   "outputs": [],
   "source": [
    "# Celda 48\n",
    "# Escribiendo la tabla de recomendaciones para su análisis posterior\n",
    "df_on_rec.to_csv(ec2_recommendation_file.split('.')[0] + \"_output.csv\", index=False)"
   ]
  },
  {
   "cell_type": "markdown",
   "id": "923351df",
   "metadata": {},
   "source": [
    "# ------------ FIN"
   ]
  }
 ],
 "metadata": {
  "kernelspec": {
   "display_name": "conda_python3",
   "language": "python",
   "name": "conda_python3"
  },
  "language_info": {
   "codemirror_mode": {
    "name": "ipython",
    "version": 3
   },
   "file_extension": ".py",
   "mimetype": "text/x-python",
   "name": "python",
   "nbconvert_exporter": "python",
   "pygments_lexer": "ipython3",
   "version": "3.6.13"
  }
 },
 "nbformat": 4,
 "nbformat_minor": 5
}